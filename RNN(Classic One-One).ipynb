{
 "cells": [
  {
   "cell_type": "code",
   "execution_count": 2,
   "id": "1ba4ebf3",
   "metadata": {},
   "outputs": [],
   "source": [
    "import pandas as pd\n",
    "import numpy as np\n",
    "import random"
   ]
  },
  {
   "cell_type": "code",
   "execution_count": 3,
   "id": "7a622317",
   "metadata": {},
   "outputs": [],
   "source": [
    "def sigmoid(x):\n",
    "    return 1/(1 + np.exp(-1*x))"
   ]
  },
  {
   "cell_type": "code",
   "execution_count": null,
   "id": "68b248bd",
   "metadata": {},
   "outputs": [],
   "source": [
    "class node:\n",
    "    def __init__():\n",
    "        self.input = 0\n",
    "        self.weight = random.random()\n",
    "        self.prev = 0\n",
    "        self.prev_weight = random.random()\n",
    "        self.bias_1 = random.random()\n",
    "        self.x = 0\n",
    "        self.x_weight = random.random()\n",
    "        self.bias_2 = random.random()\n",
    "        self.o = 0\n",
    "        self.m = random.random()\n",
    "        \n",
    "    def forward_propogate(i):\n",
    "        self.input = i\n",
    "        self.x = self.weight*self.input + self.prev*self.prev_weight + self.bias\n",
    "        self.x = sigmoid(self.x)\n",
    "        self.o = m*(self.x*self.x_weight + self.bias_2)\n",
    "\n",
    "    def back_propogate():"
   ]
  }
 ],
 "metadata": {
  "kernelspec": {
   "display_name": "Python 3 (ipykernel)",
   "language": "python",
   "name": "python3"
  },
  "language_info": {
   "codemirror_mode": {
    "name": "ipython",
    "version": 3
   },
   "file_extension": ".py",
   "mimetype": "text/x-python",
   "name": "python",
   "nbconvert_exporter": "python",
   "pygments_lexer": "ipython3",
   "version": "3.10.6"
  }
 },
 "nbformat": 4,
 "nbformat_minor": 5
}
